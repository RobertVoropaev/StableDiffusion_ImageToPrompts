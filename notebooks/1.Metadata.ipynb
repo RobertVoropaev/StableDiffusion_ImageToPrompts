{
 "cells": [
  {
   "cell_type": "markdown",
   "id": "124e4acb",
   "metadata": {},
   "source": [
    "# 1. Metadata"
   ]
  },
  {
   "cell_type": "code",
   "execution_count": 5,
   "id": "20dfd326",
   "metadata": {},
   "outputs": [],
   "source": [
    "import pandas as pd\n",
    "from pathlib import Path\n",
    "import pickle\n",
    "\n",
    "from collections import Counter\n",
    "from tqdm.notebook import tqdm\n",
    "import unicodedata"
   ]
  },
  {
   "cell_type": "code",
   "execution_count": 6,
   "id": "92b60627",
   "metadata": {},
   "outputs": [
    {
     "data": {
      "text/html": [
       "<div>\n",
       "<style scoped>\n",
       "    .dataframe tbody tr th:only-of-type {\n",
       "        vertical-align: middle;\n",
       "    }\n",
       "\n",
       "    .dataframe tbody tr th {\n",
       "        vertical-align: top;\n",
       "    }\n",
       "\n",
       "    .dataframe thead th {\n",
       "        text-align: right;\n",
       "    }\n",
       "</style>\n",
       "<table border=\"1\" class=\"dataframe\">\n",
       "  <thead>\n",
       "    <tr style=\"text-align: right;\">\n",
       "      <th></th>\n",
       "      <th>image_name</th>\n",
       "      <th>prompt</th>\n",
       "      <th>height</th>\n",
       "      <th>width</th>\n",
       "    </tr>\n",
       "  </thead>\n",
       "  <tbody>\n",
       "    <tr>\n",
       "      <th>0</th>\n",
       "      <td>DiffusionDB_2M/2217ccbd-a1c6-47ac-9a2d-7964972...</td>\n",
       "      <td>a portrait of a female robot made from code, v...</td>\n",
       "      <td>512</td>\n",
       "      <td>512</td>\n",
       "    </tr>\n",
       "    <tr>\n",
       "      <th>1</th>\n",
       "      <td>DiffusionDB_2M/c78807b7-d55a-4a2d-a6b6-9192b18...</td>\n",
       "      <td>a portrait of a female robot made from a cloud...</td>\n",
       "      <td>512</td>\n",
       "      <td>512</td>\n",
       "    </tr>\n",
       "    <tr>\n",
       "      <th>2</th>\n",
       "      <td>DiffusionDB_2M/dc71658a-5e4b-4dca-861a-e153551...</td>\n",
       "      <td>only memories remain, trending on artstation</td>\n",
       "      <td>512</td>\n",
       "      <td>512</td>\n",
       "    </tr>\n",
       "    <tr>\n",
       "      <th>3</th>\n",
       "      <td>DiffusionDB_2M/48eb7e17-a3cf-4eb8-96a9-d8e3e23...</td>\n",
       "      <td>dream swimming pool with nobody</td>\n",
       "      <td>512</td>\n",
       "      <td>512</td>\n",
       "    </tr>\n",
       "    <tr>\n",
       "      <th>4</th>\n",
       "      <td>DiffusionDB_2M/601d9792-eccd-4850-97a7-edbe91d...</td>\n",
       "      <td>a dog doing weights. epic oil painting.</td>\n",
       "      <td>768</td>\n",
       "      <td>512</td>\n",
       "    </tr>\n",
       "    <tr>\n",
       "      <th>...</th>\n",
       "      <td>...</td>\n",
       "      <td>...</td>\n",
       "      <td>...</td>\n",
       "      <td>...</td>\n",
       "    </tr>\n",
       "    <tr>\n",
       "      <th>2111934</th>\n",
       "      <td>sd3/artifacts/sd-img-to-prompts:v29/00996.png</td>\n",
       "      <td>a greenhouse with deep green and purple glowin...</td>\n",
       "      <td>512</td>\n",
       "      <td>512</td>\n",
       "    </tr>\n",
       "    <tr>\n",
       "      <th>2111935</th>\n",
       "      <td>sd3/artifacts/sd-img-to-prompts:v29/00997.png</td>\n",
       "      <td>japanese female idol</td>\n",
       "      <td>512</td>\n",
       "      <td>512</td>\n",
       "    </tr>\n",
       "    <tr>\n",
       "      <th>2111936</th>\n",
       "      <td>sd3/artifacts/sd-img-to-prompts:v29/00998.png</td>\n",
       "      <td>1 9 2 0 s color spirit photography 0 9 1 1 2 1...</td>\n",
       "      <td>512</td>\n",
       "      <td>512</td>\n",
       "    </tr>\n",
       "    <tr>\n",
       "      <th>2111937</th>\n",
       "      <td>sd3/artifacts/sd-img-to-prompts:v29/00999.png</td>\n",
       "      <td>gary busey doing a sweet skateboard trick off ...</td>\n",
       "      <td>512</td>\n",
       "      <td>512</td>\n",
       "    </tr>\n",
       "    <tr>\n",
       "      <th>2111938</th>\n",
       "      <td>sd3/artifacts/sd-img-to-prompts:v29/01000.png</td>\n",
       "      <td>a portrait of a hero in a disney movie, oil pa...</td>\n",
       "      <td>512</td>\n",
       "      <td>512</td>\n",
       "    </tr>\n",
       "  </tbody>\n",
       "</table>\n",
       "<p>2111939 rows × 4 columns</p>\n",
       "</div>"
      ],
      "text/plain": [
       "                                                image_name  \\\n",
       "0        DiffusionDB_2M/2217ccbd-a1c6-47ac-9a2d-7964972...   \n",
       "1        DiffusionDB_2M/c78807b7-d55a-4a2d-a6b6-9192b18...   \n",
       "2        DiffusionDB_2M/dc71658a-5e4b-4dca-861a-e153551...   \n",
       "3        DiffusionDB_2M/48eb7e17-a3cf-4eb8-96a9-d8e3e23...   \n",
       "4        DiffusionDB_2M/601d9792-eccd-4850-97a7-edbe91d...   \n",
       "...                                                    ...   \n",
       "2111934      sd3/artifacts/sd-img-to-prompts:v29/00996.png   \n",
       "2111935      sd3/artifacts/sd-img-to-prompts:v29/00997.png   \n",
       "2111936      sd3/artifacts/sd-img-to-prompts:v29/00998.png   \n",
       "2111937      sd3/artifacts/sd-img-to-prompts:v29/00999.png   \n",
       "2111938      sd3/artifacts/sd-img-to-prompts:v29/01000.png   \n",
       "\n",
       "                                                    prompt  height  width  \n",
       "0        a portrait of a female robot made from code, v...     512    512  \n",
       "1        a portrait of a female robot made from a cloud...     512    512  \n",
       "2             only memories remain, trending on artstation     512    512  \n",
       "3                          dream swimming pool with nobody     512    512  \n",
       "4                  a dog doing weights. epic oil painting.     768    512  \n",
       "...                                                    ...     ...    ...  \n",
       "2111934  a greenhouse with deep green and purple glowin...     512    512  \n",
       "2111935                               japanese female idol     512    512  \n",
       "2111936  1 9 2 0 s color spirit photography 0 9 1 1 2 1...     512    512  \n",
       "2111937  gary busey doing a sweet skateboard trick off ...     512    512  \n",
       "2111938  a portrait of a hero in a disney movie, oil pa...     512    512  \n",
       "\n",
       "[2111939 rows x 4 columns]"
      ]
     },
     "execution_count": 6,
     "metadata": {},
     "output_type": "execute_result"
    }
   ],
   "source": [
    "train_data_dir = Path(\"../input/\")\n",
    "\n",
    "metadata_2m = pd.read_parquet(train_data_dir / \"DiffusionDB_2M/metadata.parquet\")\n",
    "metadata_2m[\"image_name\"] = \"DiffusionDB_2M/\" + metadata_2m[\"image_name\"]\n",
    "metadata_2m[\"prompt\"] = metadata_2m[\"prompt\"].str.lower().str.strip()\n",
    "metadata_2m = metadata_2m[[\"image_name\", \"prompt\", \"height\", \"width\"]]\n",
    "\n",
    "metadata_sd2_v2 = pd.read_parquet(train_data_dir / \"gustavosta-sd2-v2/metadata.parquet\")\n",
    "metadata_sd2_v2[\"image_name\"] = \"gustavosta-sd2-v2/\" + metadata_sd2_v2[\"image_name\"]\n",
    "metadata_sd2_v2[\"height\"] = 512\n",
    "metadata_sd2_v2[\"width\"] = 512\n",
    "metadata_sd2_v2[\"prompt\"] = metadata_sd2_v2[\"prompt\"].str.lower().str.strip()\n",
    "\n",
    "metadata_sd3 = pd.read_csv(train_data_dir / \"sd3/metadata.csv\")\n",
    "metadata_sd3[\"image_name\"] = \"sd3/\" + metadata_sd3[\"image_path\"]\n",
    "del metadata_sd3[\"image_path\"]\n",
    "metadata_sd3[\"height\"] = 512\n",
    "metadata_sd3[\"width\"] = 512\n",
    "metadata_sd3[\"prompt\"] = metadata_sd3[\"prompt\"].str.lower().str.strip()\n",
    "\n",
    "metadata = pd.concat([metadata_2m, metadata_sd2_v2, metadata_sd3], ignore_index=True)\n",
    "metadata"
   ]
  },
  {
   "cell_type": "markdown",
   "id": "59b5eaf2",
   "metadata": {},
   "source": [
    "### Prompts interseption "
   ]
  },
  {
   "cell_type": "code",
   "execution_count": 7,
   "id": "9845b9b5",
   "metadata": {},
   "outputs": [],
   "source": [
    "prompts_2m = set(metadata_2m[\"prompt\"].tolist())\n",
    "prompts_sd2 = set(metadata_sd2_v2[\"prompt\"].tolist())\n",
    "prompts_sd3 = set(metadata_sd3[\"prompt\"].tolist())"
   ]
  },
  {
   "cell_type": "code",
   "execution_count": 8,
   "id": "e1d3ef49",
   "metadata": {},
   "outputs": [
    {
     "name": "stdout",
     "output_type": "stream",
     "text": [
      "0.8003071738514531\n",
      "0.8108973243798059\n",
      "0.0663164120942208\n"
     ]
    }
   ],
   "source": [
    "print(len(prompts_2m.intersection(prompts_sd2)) / len(prompts_sd2))\n",
    "print(len(prompts_2m.intersection(prompts_sd3)) / len(prompts_sd3))\n",
    "print(len(prompts_sd2.intersection(prompts_sd3)) / min(len(prompts_sd3), len(prompts_sd2)))"
   ]
  },
  {
   "cell_type": "markdown",
   "id": "f1ff34c0",
   "metadata": {},
   "source": [
    "## Create new prompts "
   ]
  },
  {
   "cell_type": "markdown",
   "id": "eea17f12",
   "metadata": {},
   "source": [
    "### First sent"
   ]
  },
  {
   "cell_type": "code",
   "execution_count": 9,
   "id": "dd02d427",
   "metadata": {},
   "outputs": [],
   "source": [
    "metadata[\"prompt_first\"] = metadata[\"prompt\"].str.split(\",\").str[0]"
   ]
  },
  {
   "cell_type": "markdown",
   "id": "b0c3b2e3",
   "metadata": {},
   "source": [
    "### Max len sent "
   ]
  },
  {
   "cell_type": "code",
   "execution_count": 10,
   "id": "b4ee1fdd",
   "metadata": {},
   "outputs": [],
   "source": [
    "metadata[\"prompt_max\"] = (\n",
    "    metadata[\"prompt\"].apply(lambda a: sorted([(len(x), x) for x in str(a).split(\",\")])[-1][1])\n",
    ")"
   ]
  },
  {
   "cell_type": "markdown",
   "id": "f958fbba",
   "metadata": {},
   "source": [
    "### Clear key words"
   ]
  },
  {
   "cell_type": "code",
   "execution_count": 11,
   "id": "af2fa6d3",
   "metadata": {},
   "outputs": [
    {
     "name": "stderr",
     "output_type": "stream",
     "text": [
      "/tmp/ipykernel_1255831/3024159530.py:1: FutureWarning: The default value of regex will change from True to False in a future version. In addition, single character regular expressions will *not* be treated as literal strings when regex=True.\n",
      "  metadata[\"prompt_clear\"] = metadata[\"prompt\"].str.replace(\".\", \",\").str.strip(\" ,.\") + \",\"\n"
     ]
    },
    {
     "data": {
      "text/plain": [
       "[('highly detailed', 240743),\n",
       " ('artstation', 201017),\n",
       " ('sharp focus', 196500),\n",
       " ('concept art', 194256),\n",
       " ('digital painting', 149945),\n",
       " ('intricate', 148980),\n",
       " ('illustration', 136630),\n",
       " ('trending on artstation', 127137),\n",
       " ('octane render', 120061),\n",
       " ('smooth', 113081)]"
      ]
     },
     "execution_count": 11,
     "metadata": {},
     "output_type": "execute_result"
    }
   ],
   "source": [
    "metadata[\"prompt_clear\"] = metadata[\"prompt\"].str.replace(\".\", \",\").str.strip(\" ,.\") + \",\"\n",
    "prompts = metadata[\"prompt_clear\"].astype(str).tolist()\n",
    "\n",
    "general_prompt = \", \".join(prompts)\n",
    "\n",
    "counter = Counter()\n",
    "words = general_prompt.split(\", \")\n",
    "for word in words:\n",
    "    counter[word] += 1\n",
    "counter.most_common()[:10]"
   ]
  },
  {
   "cell_type": "code",
   "execution_count": 12,
   "id": "95140fcb",
   "metadata": {},
   "outputs": [
    {
     "data": {
      "text/plain": [
       "576"
      ]
     },
     "execution_count": 12,
     "metadata": {},
     "output_type": "execute_result"
    }
   ],
   "source": [
    "key_words = []\n",
    "for word, cnt in counter.most_common():\n",
    "    if cnt / len(prompts) > 0.001:\n",
    "        key_words.append(word)\n",
    "len(key_words)"
   ]
  },
  {
   "cell_type": "code",
   "execution_count": 15,
   "id": "7d264c27",
   "metadata": {
    "scrolled": false
   },
   "outputs": [
    {
     "data": {
      "application/vnd.jupyter.widget-view+json": {
       "model_id": "6b1fb3ad04d24cb4a7f0f9dca517eb48",
       "version_major": 2,
       "version_minor": 0
      },
      "text/plain": [
       "  0%|          | 0/576 [00:00<?, ?it/s]"
      ]
     },
     "metadata": {},
     "output_type": "display_data"
    }
   ],
   "source": [
    "for word in tqdm(key_words):\n",
    "    metadata[\"prompt_clear\"] = (\n",
    "        metadata[\"prompt_clear\"].str.replace(f\", {word},\", \",\")\n",
    "    )\n",
    "metadata[\"prompt_clear\"] = metadata[\"prompt_clear\"].str.strip(\", \")"
   ]
  },
  {
   "cell_type": "markdown",
   "id": "9ea260e0",
   "metadata": {},
   "source": [
    "### Process "
   ]
  },
  {
   "cell_type": "code",
   "execution_count": 16,
   "id": "32267152",
   "metadata": {},
   "outputs": [],
   "source": [
    "metadata[\"prompt_first\"] = metadata[\"prompt_first\"].str.strip(\",. \")\n",
    "metadata[\"prompt_max\"] = metadata[\"prompt_max\"].str.strip(\",. \")\n",
    "metadata[\"prompt_clear\"] = metadata[\"prompt_clear\"].str.strip(\",. \")"
   ]
  },
  {
   "cell_type": "markdown",
   "id": "14f09375",
   "metadata": {},
   "source": [
    "## Save original"
   ]
  },
  {
   "cell_type": "code",
   "execution_count": 226,
   "id": "0f37674e",
   "metadata": {},
   "outputs": [],
   "source": [
    "metadata.to_parquet(\"../input/metadata/metadata.parquet\", index=False)"
   ]
  },
  {
   "cell_type": "markdown",
   "id": "3b57541b",
   "metadata": {},
   "source": [
    "## Save filtred "
   ]
  },
  {
   "cell_type": "code",
   "execution_count": 17,
   "id": "cbe074a4",
   "metadata": {},
   "outputs": [
    {
     "name": "stdout",
     "output_type": "stream",
     "text": [
      "(2111939, 7) (1040330, 7)\n"
     ]
    }
   ],
   "source": [
    "metadata_filt = metadata#.sample(frac=1, random_state=42)\n",
    "metadata_filt = metadata.drop_duplicates(\"prompt_first\", keep=\"last\")\n",
    "metadata_filt = metadata_filt.drop_duplicates(\"prompt_max\", keep=\"last\")\n",
    "metadata_filt = metadata_filt.drop_duplicates(\"prompt_clear\", keep=\"last\")\n",
    "print(metadata.shape, metadata_filt.shape)"
   ]
  },
  {
   "cell_type": "code",
   "execution_count": 18,
   "id": "7aef542e",
   "metadata": {},
   "outputs": [],
   "source": [
    "def filter_metadata(df, \n",
    "                    img_size_min, img_size_max, \n",
    "                    img_max_ratio_diff, \n",
    "                    prompt_words_min, prompt_words_max, \n",
    "                    prompt_is_english,\n",
    "                    drop_duplicates_by_head, \n",
    "                    drop_duplicates_by_tail, \n",
    "                    drop_duplicates_word):\n",
    "    def is_english_only(string):\n",
    "        for s in string:\n",
    "            cat = unicodedata.category(s)         \n",
    "            if (cat not in ['Ll', 'Lu', 'Nd', 'Po', 'Pd', 'Zs']) or (not cat.isascii()):\n",
    "                return False\n",
    "        \n",
    "        return True\n",
    "    \n",
    "    df = df.copy()\n",
    "\n",
    "    img_hw_cond = (\n",
    "        df[\"width\"].between(img_size_min, img_size_max) & \n",
    "        df[\"height\"].between(img_size_min, img_size_max)\n",
    "    )\n",
    "    df[\"size_ratio\"] = df[\"height\"] / df[\"width\"]\n",
    "    img_ratio_cond = df[\"size_ratio\"].between(1/img_max_ratio_diff, img_max_ratio_diff)\n",
    "\n",
    "    df[\"prompt_clear\"] = df[\"prompt_clear\"].astype(str).str.strip()\n",
    "    \n",
    "    df[\"num_words\"] = df['prompt_clear'].str.split(\" \").apply(len)\n",
    "    prompt_num_words_cond = df[\"num_words\"].between(prompt_words_min, prompt_words_max)\n",
    "    \n",
    "    df[\"is_english\"] = df[\"prompt_clear\"].apply(is_english_only)\n",
    "    if prompt_is_english:\n",
    "        df = df[df[\"is_english\"]]\n",
    "    \n",
    "    prompt_empty_cond = (df[\"prompt_clear\"] != \"\")\n",
    "    if drop_duplicates_by_head:\n",
    "        df['head'] = df['prompt_clear'].str.split(\" \").str[:drop_duplicates_word].str.join(\" \")\n",
    "        df.drop_duplicates(subset='head', inplace=True, keep=\"last\")\n",
    "    \n",
    "    if drop_duplicates_by_tail:\n",
    "        df['tail'] = df['prompt_clear'].str.split(\" \").str[-drop_duplicates_word:].str.join(\" \")\n",
    "        df.drop_duplicates(subset='tail', inplace=True, keep=\"last\")\n",
    "    \n",
    "    \n",
    "    df = df[\n",
    "        img_hw_cond &\n",
    "        img_ratio_cond &\n",
    "        prompt_empty_cond &\n",
    "        prompt_num_words_cond\n",
    "    ]#[[\"image_name\", \"prompt\"]]\n",
    "    \n",
    "    df = df.reset_index(drop=True)\n",
    "    return df"
   ]
  },
  {
   "cell_type": "code",
   "execution_count": 19,
   "id": "5722897d",
   "metadata": {},
   "outputs": [
    {
     "name": "stderr",
     "output_type": "stream",
     "text": [
      "/tmp/ipykernel_1255831/3347418485.py:45: UserWarning: Boolean Series key will be reindexed to match DataFrame index.\n",
      "  df = df[\n"
     ]
    },
    {
     "data": {
      "text/plain": [
       "(9695, 12)"
      ]
     },
     "execution_count": 19,
     "metadata": {},
     "output_type": "execute_result"
    }
   ],
   "source": [
    "duplwords = 1\n",
    "\n",
    "metadata_filt_dupl = filter_metadata(\n",
    "    metadata_filt, \n",
    "    img_size_min=128, \n",
    "    img_size_max=1280, \n",
    "    img_max_ratio_diff=2, \n",
    "    prompt_words_min=3, \n",
    "    prompt_words_max=100,\n",
    "    prompt_is_english=True,\n",
    "    drop_duplicates_by_head=True,\n",
    "    drop_duplicates_by_tail=True,\n",
    "    drop_duplicates_word=duplwords\n",
    ")\n",
    "metadata_filt_dupl.shape"
   ]
  },
  {
   "cell_type": "code",
   "execution_count": 20,
   "id": "063e8dce",
   "metadata": {},
   "outputs": [
    {
     "data": {
      "text/plain": [
       "DiffusionDB_2M       6993\n",
       "sd3                  2282\n",
       "gustavosta-sd2-v2     420\n",
       "Name: image_name, dtype: int64"
      ]
     },
     "execution_count": 20,
     "metadata": {},
     "output_type": "execute_result"
    }
   ],
   "source": [
    "metadata_filt_dupl[\"image_name\"].str.split(\"/\").str[0].value_counts()"
   ]
  },
  {
   "cell_type": "code",
   "execution_count": 21,
   "id": "fc635651",
   "metadata": {},
   "outputs": [],
   "source": [
    "(\n",
    "    metadata_filt_dupl[[\"image_name\", \"prompt\"]]\n",
    "        .to_parquet(f\"../input/metadata/metadata_duplwords_{duplwords}.parquet\", index=False)\n",
    ")"
   ]
  },
  {
   "cell_type": "code",
   "execution_count": 4,
   "id": "bfd912c1",
   "metadata": {},
   "outputs": [
    {
     "name": "stdout",
     "output_type": "stream",
     "text": [
      "2 (89890, 2)\n",
      "3 (241116, 2)\n",
      "4 (393862, 2)\n",
      "5 (503293, 2)\n",
      "6 (572328, 2)\n",
      "7 (625528, 2)\n"
     ]
    }
   ],
   "source": [
    "for i in range(2, 8, 1):\n",
    "    print(i, pd.read_parquet(f\"../input/metadata/metadata_duplwords_{i}.parquet\").shape)"
   ]
  }
 ],
 "metadata": {
  "kernelspec": {
   "display_name": "Python 3 (ipykernel)",
   "language": "python",
   "name": "python3"
  },
  "language_info": {
   "codemirror_mode": {
    "name": "ipython",
    "version": 3
   },
   "file_extension": ".py",
   "mimetype": "text/x-python",
   "name": "python",
   "nbconvert_exporter": "python",
   "pygments_lexer": "ipython3",
   "version": "3.10.6"
  }
 },
 "nbformat": 4,
 "nbformat_minor": 5
}
