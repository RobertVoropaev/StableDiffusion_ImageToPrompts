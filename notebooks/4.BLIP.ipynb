{
 "cells": [
  {
   "cell_type": "markdown",
   "id": "582dfdf4",
   "metadata": {},
   "source": [
    "# 4. BLIP "
   ]
  },
  {
   "cell_type": "code",
   "execution_count": 8,
   "id": "9bb987ac",
   "metadata": {},
   "outputs": [],
   "source": [
    "import os\n",
    "import sys\n",
    "import pickle\n",
    "import json\n",
    "import glob\n",
    "import gc\n",
    "import random\n",
    "import time\n",
    "import unicodedata\n",
    "import traceback\n",
    "import datetime\n",
    "import copy\n",
    "\n",
    "import numpy as np\n",
    "import pandas as pd\n",
    "\n",
    "from pathlib import Path\n",
    "import matplotlib.pyplot as plt\n",
    "import torch\n",
    "from PIL import Image\n",
    "from tqdm.notebook import tqdm\n",
    "\n",
    "from sklearn.model_selection import train_test_split\n",
    "from sklearn.model_selection import ParameterGrid\n",
    "\n",
    "import torch\n",
    "import torchvision\n",
    "from torchvision.models import (\n",
    "    vit_b_16, ViT_B_16_Weights, \n",
    "    vit_l_16, ViT_L_16_Weights,\n",
    "    vit_h_14, ViT_H_14_Weights,\n",
    "    regnet_y_32gf, RegNet_Y_32GF_Weights,\n",
    "    regnet_y_128gf, RegNet_Y_128GF_Weights,\n",
    "    regnet_y_16gf, RegNet_Y_16GF_Weights,\n",
    "    efficientnet_v2_l, EfficientNet_V2_L_Weights\n",
    ")\n",
    "from torchvision import transforms\n",
    "from torch.utils.data import Dataset, DataLoader\n",
    "from torch.utils.tensorboard import SummaryWriter\n",
    "from torch.optim.lr_scheduler import (\n",
    "    StepLR, MultiStepLR, \n",
    "    ConstantLR, LinearLR, \n",
    "    ExponentialLR, PolynomialLR, \n",
    "    CosineAnnealingLR, CosineAnnealingWarmRestarts, \n",
    "    CyclicLR, OneCycleLR, \n",
    "    ReduceLROnPlateau\n",
    ")\n",
    "\n",
    "sys.path.append('../input/sentence-transformers-222/sentence-transformers')\n",
    "from sentence_transformers import SentenceTransformer, models\n",
    "\n",
    "os.environ[\"TOKENIZERS_PARALLELISM\"] = \"false\"\n",
    "\n",
    "def set_seed(seed):\n",
    "    random.seed(seed)\n",
    "    os.environ['PYTHONHASHSEED'] = str(seed)\n",
    "    np.random.seed(seed)\n",
    "    \n",
    "    torch.manual_seed(seed)\n",
    "    torch.cuda.manual_seed(seed)\n",
    "    torch.backends.cudnn.deterministic = True\n",
    "    torch.backends.cudnn.benchmark = False\n",
    "    \n",
    "from transformers import AutoProcessor, BlipForConditionalGeneration\n",
    "\n",
    "from scipy.spatial import distance"
   ]
  },
  {
   "cell_type": "code",
   "execution_count": 2,
   "id": "a6721263",
   "metadata": {},
   "outputs": [
    {
     "data": {
      "text/plain": [
       "'model_blip_large_len_5_100_seq_5_beams_5_reppen_10_0'"
      ]
     },
     "execution_count": 2,
     "metadata": {},
     "output_type": "execute_result"
    }
   ],
   "source": [
    "class CFG:\n",
    "    seed = 42\n",
    "    text_emb_size = 384\n",
    "    is_kaggle = (os.environ.get('PWD') == '/kaggle/working')\n",
    "    \n",
    "    train_files_dir = \"img2prompt-data\"    \n",
    "\n",
    "    # DATASET FILTERS\n",
    "    img_size_min = 512\n",
    "    img_size_max = 512\n",
    "    img_max_ratio_diff = 1\n",
    "    prompt_words_min = 5\n",
    "    prompt_words_max = 100\n",
    "    prompt_is_english = True\n",
    "    drop_duplicates_by_head = True\n",
    "    drop_duplicates_by_tail = True\n",
    "    drop_duplicates_char_len = 10\n",
    "    \n",
    "    img_dataset_name = f\"img_{img_size_min}_{img_size_max}_ratio_{img_max_ratio_diff}\"\n",
    "    prompt_dataset_name = f\"prompt_{prompt_words_min}_{prompt_words_max}_dupl_{drop_duplicates_char_len}\"\n",
    "    dataset_name = f\"{img_dataset_name}_{prompt_dataset_name}\"\n",
    "    \n",
    "    # TRAIN TEST SPLIT\n",
    "    test_size = 0.02\n",
    "    \n",
    "    # MODEL\n",
    "    model = \"blip_large\" # \"blip_base\", \"blip_large\"\n",
    "    max_length=100\n",
    "    min_length=5\n",
    "    num_return_sequences=5\n",
    "    num_beams=5\n",
    "    repetition_penalty=10.0\n",
    "    model_name = f\"model_{model}_len_{min_length}_{max_length}_seq_{num_return_sequences}_beams_{num_beams}_reppen_{str(repetition_penalty).replace('.', '_')}\"\n",
    "    \n",
    "    # RESOURCES\n",
    "    batch_size = 16\n",
    "    num_workers = batch_size if not is_kaggle else 2\n",
    "    device = torch.device(\"cuda\" if torch.cuda.is_available() else \"cpu\")\n",
    "    \n",
    "    train_name = model_name\n",
    "    \n",
    "\n",
    "set_seed(CFG.seed)\n",
    "CFG.train_name"
   ]
  },
  {
   "cell_type": "markdown",
   "id": "1a322e33",
   "metadata": {},
   "source": [
    "## Val functions"
   ]
  },
  {
   "cell_type": "code",
   "execution_count": 3,
   "id": "c68a0135",
   "metadata": {},
   "outputs": [],
   "source": [
    "def get_model(model_name):\n",
    "    if model_name == \"blip_base\":\n",
    "        if CFG.is_kaggle:\n",
    "            hf_model_name = f\"../input/img2prompt-data/blip-image-captioning-base/\"\n",
    "        else:\n",
    "            hf_model_name = \"Salesforce/blip-image-captioning-base\"\n",
    "    elif model_name == \"blip_large\":\n",
    "        if CFG.is_kaggle:\n",
    "            hf_model_name = f\"../input/img2prompt-data/blip-image-captioning-large/\"\n",
    "        else:\n",
    "            hf_model_name = \"Salesforce/blip-image-captioning-large\"\n",
    "    processor = AutoProcessor.from_pretrained(hf_model_name)\n",
    "    model = BlipForConditionalGeneration.from_pretrained(hf_model_name) \n",
    "    model.to(CFG.device)\n",
    "    return model, processor\n",
    "\n",
    "class CustomDataSet(Dataset):\n",
    "    def __init__(self, data_dir, img2prompt):\n",
    "        self.data_dir = data_dir\n",
    "        self.img_names = list(img2prompt.keys())\n",
    "        self.img2prompt = img2prompt\n",
    "        \n",
    "        self.preprocess = transforms.Compose([\n",
    "            transforms.Resize(512, interpolation=transforms.InterpolationMode.BICUBIC),\n",
    "            transforms.ToTensor(),\n",
    "        ])\n",
    "\n",
    "    def __len__(self):\n",
    "        return len(self.img_names)\n",
    "\n",
    "    def __getitem__(self, idx):\n",
    "        img_name = self.img_names[idx]\n",
    "        img_path = os.path.join(self.data_dir, img_name)\n",
    "        img = Image.open(img_path).convert(\"RGB\")\n",
    "        img_tensor = self.preprocess(img)\n",
    "        \n",
    "        prompt = self.img2prompt[img_name]\n",
    "        \n",
    "        return img_name, img_tensor, prompt\n",
    "\n",
    "def create_submission(pred_arr, img_names):\n",
    "    imgIds = [i.split('.')[0] for i in img_names]\n",
    "\n",
    "    EMBEDDING_LENGTH = CFG.text_emb_size\n",
    "    eIds = list(range(EMBEDDING_LENGTH))\n",
    "\n",
    "    imgId_eId = [\n",
    "        '_'.join(map(str, i)) for i in zip(\n",
    "            np.repeat(imgIds, EMBEDDING_LENGTH),\n",
    "            np.tile(range(EMBEDDING_LENGTH), len(imgIds)))]\n",
    "    \n",
    "    submission = pd.DataFrame(\n",
    "                    index=imgId_eId,\n",
    "                    data=np.array(pred_arr).flatten(),\n",
    "                    columns=['val']).rename_axis('imgId_eId')\n",
    "    return submission"
   ]
  },
  {
   "cell_type": "markdown",
   "id": "e99d97e3",
   "metadata": {},
   "source": [
    "## Train functions "
   ]
  },
  {
   "cell_type": "code",
   "execution_count": 4,
   "id": "7fe336bc",
   "metadata": {},
   "outputs": [],
   "source": [
    "def get_sim(emb1, emb2):\n",
    "    assert len(emb1.shape) <= 2 and len(emb1.shape) <= 2, \"False shape\"\n",
    "    \n",
    "    if len(emb1.shape) == 1:\n",
    "        emb1 = [emb1]\n",
    "    if len(emb2.shape) == 1:\n",
    "        emb2 = [emb2]\n",
    "    \n",
    "    sim_res = 0\n",
    "    for i in range(len(emb1)):\n",
    "        sim_res += 1 - distance.cosine(emb1[i], emb2[i])\n",
    "    return sim_res / (i + 1)\n",
    "\n",
    "def filter_metadata(df, \n",
    "                    img_size_min, img_size_max, \n",
    "                    img_max_ratio_diff, \n",
    "                    prompt_words_min, prompt_words_max, \n",
    "                    prompt_is_english,\n",
    "                    drop_duplicates_by_head, \n",
    "                    drop_duplicates_by_tail, \n",
    "                    drop_duplicates_char_len):\n",
    "    def is_english_only(string):\n",
    "        for s in string:\n",
    "            cat = unicodedata.category(s)         \n",
    "            if (cat not in ['Ll', 'Lu', 'Nd', 'Po', 'Pd', 'Zs']) or (not cat.isascii()):\n",
    "                return False\n",
    "        \n",
    "        return True\n",
    "    \n",
    "    df = df.copy()\n",
    "    \n",
    "    df[\"size_ratio\"] = df[\"height\"] / df[\"width\"]\n",
    "    df['prompt'] = df['prompt'].str.strip()\n",
    "    df[\"num_words\"] = df['prompt'].str.split(\" \").apply(len)\n",
    "    df[\"is_english\"] = df[\"prompt\"].apply(is_english_only)\n",
    "    \n",
    "    img_hw_cond = (\n",
    "        df[\"width\"].between(img_size_min, img_size_max) & \n",
    "        df[\"height\"].between(img_size_min, img_size_max)\n",
    "    )\n",
    "    img_ratio_cond = df[\"size_ratio\"].between(1/img_max_ratio_diff, img_max_ratio_diff)\n",
    "    prompt_empty_cond = (df[\"prompt\"] != \"\")\n",
    "    prompt_num_words_cond = df[\"num_words\"].between(prompt_words_min, prompt_words_max)\n",
    "\n",
    "    if prompt_is_english:\n",
    "        df = df[df[\"is_english\"]]\n",
    "    \n",
    "    if drop_duplicates_by_head:\n",
    "        df['head'] = df['prompt'].str[:drop_duplicates_char_len]\n",
    "        df.drop_duplicates(subset='head', inplace=True)\n",
    "    \n",
    "    if drop_duplicates_by_tail:\n",
    "        df['tail'] = df['prompt'].str[-drop_duplicates_char_len:]\n",
    "        df.drop_duplicates(subset='tail', inplace=True)\n",
    "    \n",
    "    return df[\n",
    "        img_hw_cond &\n",
    "        img_ratio_cond &\n",
    "        prompt_empty_cond &\n",
    "        prompt_num_words_cond\n",
    "    ][[\"image_name\", \"prompt\"]]"
   ]
  },
  {
   "cell_type": "markdown",
   "id": "6c811129",
   "metadata": {},
   "source": [
    "## Dataset "
   ]
  },
  {
   "cell_type": "code",
   "execution_count": 5,
   "id": "045ffb76",
   "metadata": {},
   "outputs": [
    {
     "name": "stderr",
     "output_type": "stream",
     "text": [
      "/tmp/ipykernel_154943/323572681.py:56: UserWarning: Boolean Series key will be reindexed to match DataFrame index.\n",
      "  return df[\n"
     ]
    },
    {
     "data": {
      "text/plain": [
       "(53085, 2)"
      ]
     },
     "execution_count": 5,
     "metadata": {},
     "output_type": "execute_result"
    }
   ],
   "source": [
    "train_data_dir = Path(\"../input/DiffusionDB_2M/\")\n",
    "\n",
    "metadata = pd.read_parquet(train_data_dir / \"metadata.parquet\")\n",
    "metadata = filter_metadata(\n",
    "    metadata, \n",
    "    img_size_min=CFG.img_size_min, \n",
    "    img_size_max=CFG.img_size_max, \n",
    "    img_max_ratio_diff=CFG.img_max_ratio_diff, \n",
    "    prompt_words_min=CFG.prompt_words_min, \n",
    "    prompt_words_max=CFG.prompt_words_max,\n",
    "    prompt_is_english=CFG.prompt_is_english,\n",
    "    drop_duplicates_by_head=CFG.drop_duplicates_by_head,\n",
    "    drop_duplicates_by_tail=CFG.drop_duplicates_by_tail,\n",
    "    drop_duplicates_char_len=CFG.drop_duplicates_char_len\n",
    ")\n",
    "metadata.shape"
   ]
  },
  {
   "cell_type": "code",
   "execution_count": 6,
   "id": "6aa389d6",
   "metadata": {},
   "outputs": [
    {
     "name": "stdout",
     "output_type": "stream",
     "text": [
      "52023 1062\n"
     ]
    }
   ],
   "source": [
    "full_prompt = metadata[[\"image_name\", \"prompt\"]].values\n",
    "train_prompt, val_prompt = train_test_split(\n",
    "    full_prompt, \n",
    "    test_size=CFG.test_size, \n",
    "    random_state=CFG.seed,\n",
    "    shuffle=True\n",
    ")\n",
    "print(len(train_prompt), len(val_prompt))\n",
    "\n",
    "train_prompt_dict = {img_name: prompt for img_name, prompt in train_prompt}\n",
    "val_prompt_dict = {img_name: prompt for img_name, prompt in val_prompt}"
   ]
  },
  {
   "cell_type": "markdown",
   "id": "22edc32a",
   "metadata": {},
   "source": [
    "## Validation "
   ]
  },
  {
   "cell_type": "code",
   "execution_count": 6,
   "id": "2a9eb6f6",
   "metadata": {},
   "outputs": [
    {
     "ename": "NameError",
     "evalue": "name 'train_data_dir' is not defined",
     "output_type": "error",
     "traceback": [
      "\u001b[0;31m---------------------------------------------------------------------------\u001b[0m",
      "\u001b[0;31mNameError\u001b[0m                                 Traceback (most recent call last)",
      "\u001b[0;32m/tmp/ipykernel_669590/881982821.py\u001b[0m in \u001b[0;36m<module>\u001b[0;34m\u001b[0m\n\u001b[1;32m      3\u001b[0m \u001b[0;34m\u001b[0m\u001b[0m\n\u001b[1;32m      4\u001b[0m val_dataset = CustomDataSet(\n\u001b[0;32m----> 5\u001b[0;31m     \u001b[0mdata_dir\u001b[0m\u001b[0;34m=\u001b[0m\u001b[0mtrain_data_dir\u001b[0m\u001b[0;34m,\u001b[0m\u001b[0;34m\u001b[0m\u001b[0;34m\u001b[0m\u001b[0m\n\u001b[0m\u001b[1;32m      6\u001b[0m     \u001b[0mimg2prompt\u001b[0m\u001b[0;34m=\u001b[0m\u001b[0mval_prompt_dict\u001b[0m\u001b[0;34m,\u001b[0m\u001b[0;34m\u001b[0m\u001b[0;34m\u001b[0m\u001b[0m\n\u001b[1;32m      7\u001b[0m )\n",
      "\u001b[0;31mNameError\u001b[0m: name 'train_data_dir' is not defined"
     ]
    }
   ],
   "source": [
    "st_model = SentenceTransformer('../input/sentence-transformers-222/all-MiniLM-L6-v2/')\n",
    "model, processor = get_model(CFG.model)\n",
    "\n",
    "val_dataset = CustomDataSet(\n",
    "    data_dir=train_data_dir, \n",
    "    img2prompt=val_prompt_dict, \n",
    ")\n",
    "\n",
    "val_dataloader = DataLoader(\n",
    "    val_dataset, \n",
    "    batch_size=CFG.batch_size, \n",
    "    shuffle=True ,                   \n",
    "    num_workers=CFG.num_workers\n",
    ")"
   ]
  },
  {
   "cell_type": "code",
   "execution_count": 8,
   "id": "e678cffe",
   "metadata": {
    "scrolled": false
   },
   "outputs": [
    {
     "data": {
      "application/vnd.jupyter.widget-view+json": {
       "model_id": "f5ebb2cacc1648a6ba9a34a79e3ac684",
       "version_major": 2,
       "version_minor": 0
      },
      "text/plain": [
       "  0%|          | 0/67 [00:00<?, ?it/s]"
      ]
     },
     "metadata": {},
     "output_type": "display_data"
    },
    {
     "name": "stdout",
     "output_type": "stream",
     "text": [
      "0.3623901501969312\n"
     ]
    },
    {
     "data": {
      "text/plain": [
       "(1062, 384)"
      ]
     },
     "execution_count": 8,
     "metadata": {},
     "output_type": "execute_result"
    }
   ],
   "source": [
    "pred_arr = []\n",
    "sim_sum = 0\n",
    "img_count = 0\n",
    "sim_arr = []\n",
    "for img_name_arr, img_arr, true_prompts in (bar := tqdm(val_dataloader)):  \n",
    "    pixel_values = processor(images=img_arr, return_tensors=\"pt\")[\"pixel_values\"].to(CFG.device)\n",
    "    model_out = model.generate(\n",
    "        pixel_values=pixel_values,\n",
    "        max_length=CFG.max_length, min_length=CFG.min_length, \n",
    "        num_return_sequences=CFG.num_return_sequences, num_beams=CFG.num_beams, \n",
    "        repetition_penalty=CFG.repetition_penalty\n",
    "    )\n",
    "    prompts = processor.batch_decode(model_out, skip_special_tokens=True)\n",
    "    \n",
    "    prompts_emb = st_model.encode(prompts)\n",
    "    true_prompts_emb = st_model.encode(true_prompts)\n",
    "    \n",
    "    for i in range(len(img_name_arr)):\n",
    "        pred_prompt_embs = prompts_emb[i*CFG.num_return_sequences:(i+1)*CFG.num_return_sequences]\n",
    "        pred_prompt = pred_prompt_embs.mean(axis=0)\n",
    "        true_prompt = true_prompts_emb[i]\n",
    "        sim_sum += get_sim(pred_prompt, true_prompt)\n",
    "        img_count += 1\n",
    "        \n",
    "        pred_arr.append(pred_prompt)\n",
    "    sim_arr.append(sim_sum / img_count)\n",
    "    bar.set_description(f\"Sim: {sim_sum / img_count}\")\n",
    "\n",
    "print(sim_sum / img_count)\n",
    "\n",
    "pred_arr = np.array(pred_arr)\n",
    "pred_arr.shape"
   ]
  },
  {
   "cell_type": "code",
   "execution_count": 9,
   "id": "ac9b0216",
   "metadata": {},
   "outputs": [
    {
     "data": {
      "text/plain": [
       "<matplotlib.collections.LineCollection at 0x7f5df074f340>"
      ]
     },
     "execution_count": 9,
     "metadata": {},
     "output_type": "execute_result"
    },
    {
     "data": {
      "image/png": "[encoded data removed]",
      "text/plain": [
       "<Figure size 1440x720 with 1 Axes>"
      ]
     },
     "metadata": {
      "needs_background": "light"
     },
     "output_type": "display_data"
    }
   ],
   "source": [
    "plt.figure(figsize=(20, 10))\n",
    "plt.plot(np.arange(len(sim_arr)), sim_arr)\n",
    "plt.hlines(sim_sum / img_count, 0, len(sim_arr))"
   ]
  },
  {
   "cell_type": "markdown",
   "id": "309fdcfe",
   "metadata": {},
   "source": [
    "## Grid search "
   ]
  },
  {
   "cell_type": "code",
   "execution_count": 31,
   "id": "a9dba84c",
   "metadata": {},
   "outputs": [],
   "source": [
    "st_model = SentenceTransformer('../input/sentence-transformers-222/all-MiniLM-L6-v2/')\n",
    "model, processor = get_model(CFG.model)\n",
    "\n",
    "val_dataset = CustomDataSet(\n",
    "    data_dir=train_data_dir, \n",
    "    img2prompt=val_prompt_dict, \n",
    ")\n",
    "\n",
    "val_dataloader = DataLoader(\n",
    "    val_dataset, \n",
    "    batch_size=CFG.batch_size, \n",
    "    shuffle=False ,                   \n",
    "    num_workers=CFG.num_workers\n",
    ")"
   ]
  },
  {
   "cell_type": "code",
   "execution_count": null,
   "id": "0203ec67",
   "metadata": {},
   "outputs": [],
   "source": [
    "model_params = {\n",
    "    \"num_return_sequences\": [1, 3, 5, 10, 20],\n",
    "    \"num_beams\": [1, 3, 5, 10, 20],\n",
    "    \"repetition_penalty\": [1., 5., 10., 100.]\n",
    "}\n",
    "\n",
    "for param in ParameterGrid(model_params):\n",
    "    if param[\"num_return_sequences\"] > param[\"num_beams\"]:\n",
    "        continue\n",
    "        \n",
    "    sim_sum = 0\n",
    "    img_count = 0\n",
    "    for i, (img_name_arr, img_arr, true_prompts) in enumerate(bar := tqdm(val_dataloader)):   \n",
    "        pixel_values = processor(images=img_arr, return_tensors=\"pt\")[\"pixel_values\"].to(CFG.device)\n",
    "        model_out = model.generate(\n",
    "            pixel_values=pixel_values,\n",
    "            max_length=CFG.max_length, min_length=CFG.min_length, \n",
    "            **param\n",
    "        )\n",
    "        prompts = processor.batch_decode(model_out, skip_special_tokens=True)\n",
    "\n",
    "        prompts_emb = st_model.encode(prompts)\n",
    "        true_prompts_emb = st_model.encode(true_prompts)\n",
    "\n",
    "        for i in range(len(img_name_arr)):\n",
    "            pred_prompt_embs = prompts_emb[i*CFG.num_return_sequences:(i+1)*CFG.num_return_sequences]\n",
    "            pred_prompt = pred_prompt_embs.mean(axis=0)\n",
    "            true_prompt = true_prompts_emb[i]\n",
    "            \n",
    "            sim_sum += get_sim(pred_prompt, true_prompt)\n",
    "            img_count += 1\n",
    "\n",
    "        bar.set_description(f\"Sim: {sim_sum / img_count}\")\n",
    "\n",
    "    sim_mean = sim_sum / img_count\n",
    "    print(sim_mean, param)"
   ]
  },
  {
   "cell_type": "markdown",
   "id": "72015b39",
   "metadata": {},
   "source": [
    "## Inference "
   ]
  },
  {
   "cell_type": "code",
   "execution_count": 5,
   "id": "b1ba67f7",
   "metadata": {},
   "outputs": [],
   "source": [
    "st_model = SentenceTransformer('../input/sentence-transformers-222/all-MiniLM-L6-v2/')\n",
    "model, processor = get_model(CFG.model)\n",
    "\n",
    "test_data_dir = Path(\"../input/stable-diffusion-image-to-prompts/images/\")\n",
    "test_image_names = sorted(os.listdir(test_data_dir))\n",
    "test_prompt_dict = {img_name: \"\" for img_name in test_image_names}\n",
    "\n",
    "test_dataset = CustomDataSet(   \n",
    "    data_dir=test_data_dir, \n",
    "    img2prompt=test_prompt_dict, \n",
    ")\n",
    "test_dataloader = DataLoader(\n",
    "    test_dataset, \n",
    "    batch_size=CFG.batch_size, \n",
    "    shuffle=False, \n",
    "    num_workers=CFG.num_workers\n",
    ")"
   ]
  },
  {
   "cell_type": "code",
   "execution_count": 6,
   "id": "51acb4fd",
   "metadata": {},
   "outputs": [
    {
     "data": {
      "application/vnd.jupyter.widget-view+json": {
       "model_id": "b4180c722b01456eaaddbc73e59f3cb2",
       "version_major": 2,
       "version_minor": 0
      },
      "text/plain": [
       "  0%|          | 0/1 [00:00<?, ?it/s]"
      ]
     },
     "metadata": {},
     "output_type": "display_data"
    },
    {
     "data": {
      "text/plain": [
       "(7, 384)"
      ]
     },
     "execution_count": 6,
     "metadata": {},
     "output_type": "execute_result"
    }
   ],
   "source": [
    "pred_arr = []\n",
    "for img_name_arr, img_arr, true_prompts in tqdm(test_dataloader):  \n",
    "    pixel_values = processor(images=img_arr, return_tensors=\"pt\")[\"pixel_values\"].to(CFG.device)\n",
    "    model_out = model.generate(\n",
    "        pixel_values=pixel_values,\n",
    "        max_length=CFG.max_length, min_length=CFG.min_length, \n",
    "        num_return_sequences=CFG.num_return_sequences, num_beams=CFG.num_beams, \n",
    "        repetition_penalty=CFG.repetition_penalty\n",
    "    )\n",
    "    prompts = processor.batch_decode(model_out, skip_special_tokens=True)\n",
    "    prompts_emb = st_model.encode(prompts)\n",
    "    \n",
    "    \n",
    "    for i in range(len(img_name_arr)):\n",
    "        pred_prompt_embs = prompts_emb[i*CFG.num_return_sequences:(i+1)*CFG.num_return_sequences]\n",
    "        pred_prompt = pred_prompt_embs.mean(axis=0)\n",
    "        \n",
    "        pred_arr.append(pred_prompt)\n",
    "\n",
    "pred_arr = np.array(pred_arr)\n",
    "pred_arr.shape"
   ]
  },
  {
   "cell_type": "code",
   "execution_count": 7,
   "id": "c31d050e",
   "metadata": {},
   "outputs": [
    {
     "data": {
      "text/plain": [
       "['this is an aerial view of a circular hole in the ground',\n",
       " 'this is an aerial view of a circular hole in the sand',\n",
       " 'this is an aerial view of a circular hole in the desert',\n",
       " 'this is an aerial view of a circular hole in the sky',\n",
       " 'this is an aerial view of a circular hole in the middle of some sand',\n",
       " 'there is a wooden plate that has some sort of design on it',\n",
       " 'there is a wooden plate that has some kind of design on it',\n",
       " 'there is a wooden plate that has some sort of art on it',\n",
       " 'there is a wooden plate that has some type of art on it',\n",
       " 'there is a wooden plate that has some sort of swirl on it',\n",
       " 'there is a cartoon dinosaur eating some food in the woods',\n",
       " 'there is a cartoon dinosaur eating some cheese in the woods',\n",
       " 'there is a cartoon dinosaur eating some food in the forest',\n",
       " 'there is a cartoon dinosaur eating cheese in the woods',\n",
       " 'there is a cartoon dinosaur eating some cheese in the forest',\n",
       " 'there is a drawing of a robot holding a hammer in one hand and another on the other',\n",
       " 'there is a drawing of a robot holding a hammer in his right hand',\n",
       " 'there is a drawing of a robot holding a hammer in his hand',\n",
       " 'there is a drawing of a robot holding a hammer in its hand',\n",
       " 'there is a drawing of a robot holding a hammer in one hand',\n",
       " 'there is a painting of a man with an alligator on his head',\n",
       " 'there is a painting of a man with an animal on his head',\n",
       " 'this is a painting of a man with an alligator on his head',\n",
       " 'there is a painting of a man with an alligator on his shoulder',\n",
       " 'there is a painting of a man holding an alligator on his head',\n",
       " 'there is a man in an astronaut suit walking down the street',\n",
       " 'there is a man in an astronaut suit walking down the street with cherry trees behind him',\n",
       " 'there is a man in an astronaut suit walking down the road',\n",
       " 'there is a man in an astronaut suit walking down the road with cherry trees behind him',\n",
       " 'there is a statue of an astronaut walking down the street',\n",
       " 'there is a man standing in front of a counter with donuts on it',\n",
       " 'there is a man standing in front of a bakery counter with donuts on it',\n",
       " 'there is a man standing in front of the counter with donuts on it',\n",
       " 'there is a man standing at the counter in front of a donut shop',\n",
       " 'there is a man standing in front of a counter with donuts']"
      ]
     },
     "execution_count": 7,
     "metadata": {},
     "output_type": "execute_result"
    }
   ],
   "source": [
    "prompts"
   ]
  },
  {
   "cell_type": "code",
   "execution_count": 20,
   "id": "035e4199",
   "metadata": {},
   "outputs": [
    {
     "data": {
      "text/html": [
       "<div>\n",
       "<style scoped>\n",
       "    .dataframe tbody tr th:only-of-type {\n",
       "        vertical-align: middle;\n",
       "    }\n",
       "\n",
       "    .dataframe tbody tr th {\n",
       "        vertical-align: top;\n",
       "    }\n",
       "\n",
       "    .dataframe thead th {\n",
       "        text-align: right;\n",
       "    }\n",
       "</style>\n",
       "<table border=\"1\" class=\"dataframe\">\n",
       "  <thead>\n",
       "    <tr style=\"text-align: right;\">\n",
       "      <th></th>\n",
       "      <th>val</th>\n",
       "    </tr>\n",
       "    <tr>\n",
       "      <th>imgId_eId</th>\n",
       "      <th></th>\n",
       "    </tr>\n",
       "  </thead>\n",
       "  <tbody>\n",
       "    <tr>\n",
       "      <th>20057f34d_0</th>\n",
       "      <td>0.062122</td>\n",
       "    </tr>\n",
       "    <tr>\n",
       "      <th>20057f34d_1</th>\n",
       "      <td>0.110533</td>\n",
       "    </tr>\n",
       "    <tr>\n",
       "      <th>20057f34d_2</th>\n",
       "      <td>0.028227</td>\n",
       "    </tr>\n",
       "    <tr>\n",
       "      <th>20057f34d_3</th>\n",
       "      <td>0.043295</td>\n",
       "    </tr>\n",
       "    <tr>\n",
       "      <th>20057f34d_4</th>\n",
       "      <td>-0.036729</td>\n",
       "    </tr>\n",
       "    <tr>\n",
       "      <th>...</th>\n",
       "      <td>...</td>\n",
       "    </tr>\n",
       "    <tr>\n",
       "      <th>f27825b2c_379</th>\n",
       "      <td>0.023771</td>\n",
       "    </tr>\n",
       "    <tr>\n",
       "      <th>f27825b2c_380</th>\n",
       "      <td>0.000677</td>\n",
       "    </tr>\n",
       "    <tr>\n",
       "      <th>f27825b2c_381</th>\n",
       "      <td>-0.107496</td>\n",
       "    </tr>\n",
       "    <tr>\n",
       "      <th>f27825b2c_382</th>\n",
       "      <td>-0.021076</td>\n",
       "    </tr>\n",
       "    <tr>\n",
       "      <th>f27825b2c_383</th>\n",
       "      <td>-0.031478</td>\n",
       "    </tr>\n",
       "  </tbody>\n",
       "</table>\n",
       "<p>2688 rows × 1 columns</p>\n",
       "</div>"
      ],
      "text/plain": [
       "                    val\n",
       "imgId_eId              \n",
       "20057f34d_0    0.062122\n",
       "20057f34d_1    0.110533\n",
       "20057f34d_2    0.028227\n",
       "20057f34d_3    0.043295\n",
       "20057f34d_4   -0.036729\n",
       "...                 ...\n",
       "f27825b2c_379  0.023771\n",
       "f27825b2c_380  0.000677\n",
       "f27825b2c_381 -0.107496\n",
       "f27825b2c_382 -0.021076\n",
       "f27825b2c_383 -0.031478\n",
       "\n",
       "[2688 rows x 1 columns]"
      ]
     },
     "execution_count": 20,
     "metadata": {},
     "output_type": "execute_result"
    }
   ],
   "source": [
    "submission = create_submission(pred_arr, test_image_names)\n",
    "submission"
   ]
  },
  {
   "cell_type": "code",
   "execution_count": null,
   "id": "2b944ef7",
   "metadata": {},
   "outputs": [],
   "source": [
    "if CFG.is_kaggle:\n",
    "    submission.to_csv(\"submission.csv\")"
   ]
  }
 ],
 "metadata": {
  "kernelspec": {
   "display_name": "Python 3 (ipykernel)",
   "language": "python",
   "name": "python3"
  },
  "language_info": {
   "codemirror_mode": {
    "name": "ipython",
    "version": 3
   },
   "file_extension": ".py",
   "mimetype": "text/x-python",
   "name": "python",
   "nbconvert_exporter": "python",
   "pygments_lexer": "ipython3",
   "version": "3.10.6"
  }
 },
 "nbformat": 4,
 "nbformat_minor": 5
}
